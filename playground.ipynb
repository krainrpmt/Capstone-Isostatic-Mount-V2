{
 "cells": [
  {
   "cell_type": "code",
   "id": "initial_id",
   "metadata": {
    "ExecuteTime": {
     "end_time": "2024-09-01T14:54:44.833573Z",
     "start_time": "2024-09-01T14:54:44.831388Z"
    }
   },
   "source": [
    "from numexpr.expressions import double\n",
    "from sympy import *\n",
    "import numpy as np\n",
    "import math as math\n",
    "import sympy as sp"
   ],
   "outputs": [],
   "execution_count": 95
  },
  {
   "cell_type": "code",
   "id": "f04913b0d4672b27",
   "metadata": {
    "ExecuteTime": {
     "end_time": "2024-09-01T14:54:44.841125Z",
     "start_time": "2024-09-01T14:54:44.838075Z"
    }
   },
   "source": [
    "la,wa,ta,E,G,J,lb,wb,tb,lc,wc,tc,l,w,t,psi,d = symbols('la,wa,ta,E,G,J,lb,wb,tb,lc,wc,tc,l,w,t,psi,d')"
   ],
   "outputs": [],
   "execution_count": 96
  },
  {
   "cell_type": "code",
   "id": "8e64aa4e6cec7ba5",
   "metadata": {
    "ExecuteTime": {
     "end_time": "2024-09-01T14:54:45.603864Z",
     "start_time": "2024-09-01T14:54:44.891894Z"
    }
   },
   "source": [
    "Ca = Matrix([[0, 0, 0, la/(G*J), 0, 0],\n",
    "             [0, 0, -6*la**2/(ta*wa**3*E), 0, 12*la/(ta*wa**3*E), 0],\n",
    "             [0, 6*la**2/(ta**3*wa*E), 0, 0, 0, 12*la/(ta**3*wa*E)],\n",
    "             [la/(ta*wa*E), 0, 0, 0, 0, 0],\n",
    "             [0, 4*la**3/(ta**3*wa*E), 0, 0, 0, 6*la**2/(ta**3*wa*E)],\n",
    "             [0, 0, 4*la**3/(ta*wa**3*E), 0, -6*la**2/(ta*wa**3*E), 0]])\n",
    "\n",
    "Cb = Matrix([[0, 0, 0, lb/(G*J), 0, 0],\n",
    "             [0, 0, -6*lb**2/(wb*tb**3*E), 0, 12*lb/(wb*tb**3*E), 0],\n",
    "             [0, 6*lb**2/(wb**3*tb*E), 0, 0, 0, 12*lb/(wb**3*tb*E)],\n",
    "             [lb/(wb*tb*E), 0, 0, 0, 0, 0],\n",
    "             [0, 4*lb**3/(wb**3*tb*E), 0, 0, 0, 6*lb**2/(wb**3*tb*E)],\n",
    "             [0, 0, 4*lb**3/(wb*tb**3*E), 0, -6*lb**2/(wb*tb**3*E), 0]])\n",
    "\n",
    "Cc = Matrix([[0, 0, 0, lc/(G*J), 0, 0],\n",
    "             [0, 0, -6*lc**2/(tc*wc**3*E), 0, 12*lc/(tc*wc**3*E), 0],\n",
    "             [0, 6*lc**2/(tc**3*wc*E), 0, 0, 0, 12*lc/(tc**3*wc*E)],\n",
    "             [lc/(tc*wc*E), 0, 0, 0, 0, 0],\n",
    "             [0, 4*lc**3/(tc**3*wc*E), 0, 0, 0, 6*lc**2/(tc**3*wc*E)],\n",
    "             [0, 0, 4*lc**3/(tc*wc**3*E), 0, -6*lc**2/(tc*wc**3*E), 0]])\n",
    "\n",
    "R = eye(3)\n",
    "\n",
    "Da = Matrix([[0,0,0],\n",
    "             [0,0, lb+lc],\n",
    "             [0,-lb-lc,0]])\n",
    "\n",
    "Db = Matrix([[0,0,0],\n",
    "             [0,0,lc],\n",
    "             [0,-lc,0]])\n",
    "\n",
    "Ad_a = Matrix([[R, zeros(3)],\n",
    "               [Da*R, R]])\n",
    "\n",
    "Ad_b = Matrix([[R, zeros(3)],\n",
    "               [Db*R, R]])\n",
    "\n",
    "Ct = Ad_a*Ca*Ad_a.inv()+Ad_b*Cb*Ad_b.inv()+Cc\n",
    "Ct_Assumed = simplify(Ct.subs({ta:t,tb:t,tc:t,wa:w,wb:w,wc:w,la:l,lb:l,lc:l}))\n",
    "\n",
    "R1 = Matrix([[cos((pi+psi)/2), -sin((pi+psi)/2), 0],\n",
    "             [sin((pi+psi)/2), cos((pi+psi)/2), 0],\n",
    "             [0, 0, 1]])\n",
    "#display(R1)\n",
    "\n",
    "R2 = Matrix([[cos((pi-psi)/2), -sin((pi-psi)/2), 0],\n",
    "             [sin((pi-psi)/2), cos((pi-psi)/2), 0],\n",
    "             [0, 0, 1]])\n",
    "#display(R2)\n",
    "\n",
    "D1 = Matrix([[0, 0, 0],\n",
    "             [0, 0, -d/2],\n",
    "             [0, d/2, 0]])\n",
    "#display(D1)\n",
    "\n",
    "D2 = Matrix([[0, 0, 0],\n",
    "             [0, 0, d/2],\n",
    "             [0, -d/2, 0]])\n",
    "#display(D2)\n",
    "\n",
    "\n",
    "Ad_1 = Matrix([[R1, zeros(3)],\n",
    "               [D1*R1, R1]])\n",
    "#display(Ad_1)\n",
    "\n",
    "Ad_2 = Matrix([[R2, zeros(3)],\n",
    "               [D2*R2, R2]])\n",
    "#display(Ad_2)\n",
    "\n",
    "Kt_Assumed = cancel(Ct_Assumed.inv())\n",
    "Kp_Assumed = cancel(Ad_1*Kt_Assumed*Ad_1.inv() + Ad_2*Kt_Assumed*Ad_2.inv())\n",
    "\n",
    "#Abbreviating Elements for Display\n",
    "m, n = Kp_Assumed.shape\n",
    "C = Matrix(m, n, lambda i, j: Symbol(f'k{i+1}{j+1}'))\n",
    "\n",
    "# Loop through each element and replace non-zero entries with placeholders\n",
    "for i in range(m):\n",
    "    for j in range(n):\n",
    "        if Kp_Assumed[i, j] == 0:\n",
    "            C[i, j] = 0  # Retain zeros"
   ],
   "outputs": [],
   "execution_count": 97
  },
  {
   "cell_type": "code",
   "id": "e080de17da8eac2a",
   "metadata": {
    "ExecuteTime": {
     "end_time": "2024-09-01T14:54:45.733196Z",
     "start_time": "2024-09-01T14:54:45.657456Z"
    }
   },
   "source": [
    "Load = Matrix([300,-588.6,300,0,80,0])\n",
    "t0,w0,l0,d0,psi0,E0,G0 = 1e-3,10e-3,20e-3,20e-3,math.radians(60),125e9,48e9\n",
    "J0 = 0.312*w0*t0**3\n",
    "Volume = t0*w0*l0*3*2 + t0*w0**2*4 + w0*d0**2\n",
    "Mass = 4480*Volume\n",
    "y_height = (3*l0+t0*4)*cos(psi0/2)+d0/2\n",
    "x_width = (3*l0+t0*3)*sin(psi0/2)*2+d0\n",
    "z_width = w0\n",
    "\n",
    "Kp_Assumed_num = Kp_Assumed.subs({t:t0, w:w0, l:l0, d:d0, psi:psi0, E:E0, G:G0, J:J0})\n",
    "Cp_Assumed_num = Kp_Assumed_num.inv()\n",
    "freq_x = float(1/(2*pi*sqrt(Mass*Cp_Assumed_num[4-1,1-1])))\n",
    "freq_z = float(1/(2*pi*sqrt(Mass*Cp_Assumed_num[6-1,3-1])))\n",
    "\n",
    "Displacement = Kp_Assumed_num.solve(Load)\n",
    "\n",
    "print(f\"Mass = {Mass*1000:.2f} g\")\n",
    "print(f\"X Size = {x_width*1000:.2f} mm\\nY Size = {y_height*1000:.2f} mm\\nZ Size = {z_width*1000:.2f} mm\")\n",
    "print(f\"Natural Frequency in X Axis = {freq_x:.2f} Hz\\nNatural Frequency in Z Axis = {freq_z:.2f} Hz\")\n",
    "print(f\"X Displacement = {Displacement[3]*1000:.4f} mm\\nY Displacement = {Displacement[4]*1000:.4f} mm\\nZ Displacement = {Displacement[5]*1000:.4f} mm\\nX Rotation = {math.degrees(Displacement[0]):.4f} deg\\nY Rotation = {math.degrees(Displacement[1]):.4f} deg\\nZ Rotation = {math.degrees(Displacement[2]):.4f} deg\")"
   ],
   "outputs": [
    {
     "name": "stdout",
     "output_type": "stream",
     "text": [
      "Mass = 25.09 g\n",
      "X Size = 83.00 mm\n",
      "Y Size = 65.43 mm\n",
      "Z Size = 10.00 mm\n",
      "Natural Frequency in X Axis = 343.21 Hz\n",
      "Natural Frequency in Z Axis = 112.47 Hz\n",
      "X Displacement = 2.5714 mm\n",
      "Y Displacement = -0.0188 mm\n",
      "Z Displacement = 23.9437 mm\n",
      "X Rotation = 50.1359 deg\n",
      "Y Rotation = 28.4158 deg\n",
      "Z Rotation = 8.4352 deg\n"
     ]
    }
   ],
   "execution_count": 98
  }
 ],
 "metadata": {
  "kernelspec": {
   "display_name": "Python 3 (ipykernel)",
   "language": "python",
   "name": "python3"
  },
  "language_info": {
   "codemirror_mode": {
    "name": "ipython",
    "version": 3
   },
   "file_extension": ".py",
   "mimetype": "text/x-python",
   "name": "python",
   "nbconvert_exporter": "python",
   "pygments_lexer": "ipython3",
   "version": "3.12.4"
  }
 },
 "nbformat": 4,
 "nbformat_minor": 5
}
