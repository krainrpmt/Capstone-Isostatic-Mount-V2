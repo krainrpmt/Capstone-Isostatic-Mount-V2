{
 "cells": [
  {
   "cell_type": "code",
   "id": "initial_id",
   "metadata": {
    "ExecuteTime": {
     "end_time": "2024-10-31T09:25:49.590325Z",
     "start_time": "2024-10-31T09:25:49.583310Z"
    }
   },
   "source": [
    "import sympy as sym\n",
    "import numpy as np\n",
    "import math\n",
    "import scipy as sp"
   ],
   "outputs": [],
   "execution_count": 8
  },
  {
   "cell_type": "code",
   "id": "f04913b0d4672b27",
   "metadata": {
    "ExecuteTime": {
     "end_time": "2024-10-31T09:25:50.029342Z",
     "start_time": "2024-10-31T09:25:49.613486Z"
    }
   },
   "source": [
    "#Equation Setup\n",
    "la,wa,ta,E,G,J,lb,wb,tb,lc,wc,tc,l,w,t,psi,d = sym.symbols('la,wa,ta,E,G,J,lb,wb,tb,lc,wc,tc,l,w,t,psi,d')\n",
    "\n",
    "#Tangential Blade\n",
    "Ca = sym.Matrix([[0, 0, 0, la/(G*J), 0, 0],\n",
    "             [0, 0, -6*la**2/(ta*wa**3*E), 0, 12*la/(ta*wa**3*E), 0],\n",
    "             [0, 6*la**2/(ta**3*wa*E), 0, 0, 0, 12*la/(ta**3*wa*E)],\n",
    "             [la/(ta*wa*E), 0, 0, 0, 0, 0],\n",
    "             [0, 4*la**3/(ta**3*wa*E), 0, 0, 0, 6*la**2/(ta**3*wa*E)],\n",
    "             [0, 0, 4*la**3/(ta*wa**3*E), 0, -6*la**2/(ta*wa**3*E), 0]])\n",
    "\n",
    "#Radial Blade\n",
    "Cb = sym.Matrix([[0, 0, 0, lb/(G*J), 0, 0],\n",
    "             [0, 0, -6*lb**2/(wb*tb**3*E), 0, 12*lb/(wb*tb**3*E), 0],\n",
    "             [0, 6*lb**2/(wb**3*tb*E), 0, 0, 0, 12*lb/(wb**3*tb*E)],\n",
    "             [lb/(wb*tb*E), 0, 0, 0, 0, 0],\n",
    "             [0, 4*lb**3/(wb**3*tb*E), 0, 0, 0, 6*lb**2/(wb**3*tb*E)],\n",
    "             [0, 0, 4*lb**3/(wb*tb**3*E), 0, -6*lb**2/(wb*tb**3*E), 0]])\n",
    "\n",
    "#Tangential Blade\n",
    "Cc = sym.Matrix([[0, 0, 0, lc/(G*J), 0, 0],\n",
    "             [0, 0, -6*lc**2/(tc*wc**3*E), 0, 12*lc/(tc*wc**3*E), 0],\n",
    "             [0, 6*lc**2/(tc**3*wc*E), 0, 0, 0, 12*lc/(tc**3*wc*E)],\n",
    "             [lc/(tc*wc*E), 0, 0, 0, 0, 0],\n",
    "             [0, 4*lc**3/(tc**3*wc*E), 0, 0, 0, 6*lc**2/(tc**3*wc*E)],\n",
    "             [0, 0, 4*lc**3/(tc*wc**3*E), 0, -6*lc**2/(tc*wc**3*E), 0]])\n",
    "\n",
    "'''\n",
    "#Radial Blade\n",
    "Ca = sym.Matrix([[0, 0, 0, la/(G*J), 0, 0],\n",
    "             [0, 0, -6*la**2/(wa*ta**3*E), 0, 12*la/(wa*ta**3*E), 0],\n",
    "             [0, 6*la**2/(wa**3*ta*E), 0, 0, 0, 12*la/(wa**3*ta*E)],\n",
    "             [la/(wa*ta*E), 0, 0, 0, 0, 0],\n",
    "             [0, 4*la**3/(wa**3*ta*E), 0, 0, 0, 6*la**2/(wa**3*ta*E)],\n",
    "             [0, 0, 4*la**3/(wa*ta**3*E), 0, -6*la**2/(wa*ta**3*E), 0]])\n",
    "\n",
    "#Tangential Blade\n",
    "Cb = sym.Matrix([[0, 0, 0, lb/(G*J), 0, 0],\n",
    "             [0, 0, -6*lb**2/(tb*wb**3*E), 0, 12*lb/(tb*wb**3*E), 0],\n",
    "             [0, 6*lb**2/(tb**3*wb*E), 0, 0, 0, 12*lb/(tb**3*wb*E)],\n",
    "             [lb/(tb*wb*E), 0, 0, 0, 0, 0],\n",
    "             [0, 4*lb**3/(tb**3*wb*E), 0, 0, 0, 6*lb**2/(tb**3*wb*E)],\n",
    "             [0, 0, 4*lb**3/(tb*wb**3*E), 0, -6*lb**2/(tb*wb**3*E), 0]])\n",
    "\n",
    "#Radial Blade\n",
    "Cc = sym.Matrix([[0, 0, 0, lc/(G*J), 0, 0],\n",
    "             [0, 0, -6*lc**2/(wc*tc**3*E), 0, 12*lc/(wc*tc**3*E), 0],\n",
    "             [0, 6*lc**2/(wc**3*tc*E), 0, 0, 0, 12*lc/(wc**3*tc*E)],\n",
    "             [lc/(wc*tc*E), 0, 0, 0, 0, 0],\n",
    "             [0, 4*lc**3/(wc**3*tc*E), 0, 0, 0, 6*lc**2/(wc**3*tc*E)],\n",
    "             [0, 0, 4*lc**3/(wc*tc**3*E), 0, -6*lc**2/(wc*tc**3*E), 0]])\n",
    "'''\n",
    "R = sym.eye(3)\n",
    "\n",
    "Da = sym.Matrix([[0,0,0],\n",
    "             [0,0, lb+lc],\n",
    "             [0,-lb-lc,0]])\n",
    "\n",
    "Db = sym.Matrix([[0,0,0],\n",
    "             [0,0,lc],\n",
    "             [0,-lc,0]])\n",
    "\n",
    "Ad_a = sym.Matrix([[R, sym.zeros(3)],\n",
    "               [Da*R, R]])\n",
    "\n",
    "Ad_b = sym.Matrix([[R, sym.zeros(3)],\n",
    "               [Db*R, R]])\n",
    "\n",
    "Ct = Ad_a*Ca*Ad_a.inv()+Ad_b*Cb*Ad_b.inv()+Cc\n",
    "Ct_Assumed = sym.simplify(Ct.subs({ta:t,tb:t,tc:t,wa:w,wb:w,wc:w,la:l,lb:l,lc:l}))\n",
    "\n",
    "R1 = sym.Matrix([[sym.cos((sym.pi+psi)/2), -sym.sin((sym.pi+psi)/2), 0],\n",
    "             [sym.sin((sym.pi+psi)/2), sym.cos((sym.pi+psi)/2), 0],\n",
    "             [0, 0, 1]])\n",
    "#display(R1)\n",
    "\n",
    "R2 = sym.Matrix([[sym.cos((sym.pi-psi)/2), -sym.sin((sym.pi-psi)/2), 0],\n",
    "             [sym.sin((sym.pi-psi)/2), sym.cos((sym.pi-psi)/2), 0],\n",
    "             [0, 0, 1]])\n",
    "#display(R2)\n",
    "\n",
    "D1 = sym.Matrix([[0, 0, 0],\n",
    "             [0, 0, -d/2],\n",
    "             [0, d/2, 0]])\n",
    "#display(D1)\n",
    "\n",
    "D2 = sym.Matrix([[0, 0, 0],\n",
    "             [0, 0, d/2],\n",
    "             [0, -d/2, 0]])\n",
    "#display(D2)\n",
    "\n",
    "\n",
    "Ad_1 = sym.Matrix([[R1, sym.zeros(3)],\n",
    "               [D1*R1, R1]])\n",
    "#display(Ad_1)\n",
    "\n",
    "Ad_2 = sym.Matrix([[R2, sym.zeros(3)],\n",
    "               [D2*R2, R2]])\n",
    "#display(Ad_2)\n",
    "\n",
    "Kt_Assumed = sym.cancel(Ct_Assumed.inv())\n",
    "Kp_Assumed = sym.cancel(Ad_1*Kt_Assumed*Ad_1.inv() + Ad_2*Kt_Assumed*Ad_2.inv())\n",
    "\n",
    "#Abbreviating Elements for Display\n",
    "m, n = Kp_Assumed.shape\n",
    "C = sym.Matrix(m, n, lambda i, j: sym.Symbol(f'k{i+1}{j+1}'))\n",
    "\n",
    "# Loop through each element and replace non-zero entries with placeholders\n",
    "for i in range(m):\n",
    "    for j in range(n):\n",
    "        if Kp_Assumed[i, j] == 0:\n",
    "            C[i, j] = 0  # Retain sym.zeros\n",
    "\n",
    "display(C)"
   ],
   "outputs": [
    {
     "data": {
      "text/plain": [
       "Matrix([\n",
       "[  0,   0, k13, k14,   0,   0],\n",
       "[  0,   0,   0,   0, k25,   0],\n",
       "[k31,   0,   0,   0,   0, k36],\n",
       "[k41,   0,   0,   0,   0, k46],\n",
       "[  0, k52,   0,   0,   0,   0],\n",
       "[  0,   0, k63, k64,   0,   0]])"
      ],
      "text/latex": "$\\displaystyle \\left[\\begin{matrix}0 & 0 & k_{13} & k_{14} & 0 & 0\\\\0 & 0 & 0 & 0 & k_{25} & 0\\\\k_{31} & 0 & 0 & 0 & 0 & k_{36}\\\\k_{41} & 0 & 0 & 0 & 0 & k_{46}\\\\0 & k_{52} & 0 & 0 & 0 & 0\\\\0 & 0 & k_{63} & k_{64} & 0 & 0\\end{matrix}\\right]$"
     },
     "metadata": {},
     "output_type": "display_data"
    }
   ],
   "execution_count": 9
  },
  {
   "metadata": {
    "ExecuteTime": {
     "end_time": "2024-10-31T09:25:50.134358Z",
     "start_time": "2024-10-31T09:25:50.058476Z"
    }
   },
   "cell_type": "code",
   "source": [
    "#Calculation\n",
    "Load = sym.Matrix([0,-5884.2,0,0,0,0])\n",
    "t0,w0,l0,d0,psi0,E0,G0 = 1e-3,5e-3,9e-3,30e-3,math.radians(60),114e9,44e9\n",
    "J0 = 0.312*w0*t0**3\n",
    "Volume = t0*w0*l0*3*2 + t0*w0**2*4 + w0*d0**2\n",
    "Mass = 4430*Volume\n",
    "y_size = (3*l0+t0*4)*sym.cos(psi0/2)+d0/2\n",
    "x_size = (3*l0+t0*3)*sym.sin(psi0/2)*2+d0\n",
    "z_size = w0\n",
    "\n",
    "Kp_Assumed_num = Kp_Assumed.subs({t:t0, w:w0, l:l0, d:d0, psi:psi0, E:E0, G:G0, J:J0})\n",
    "Cp_Assumed_num = Kp_Assumed_num.inv()\n",
    "freq_x = float(1/(2*sym.pi*sym.sqrt(Mass*Cp_Assumed_num[4-1,1-1])))\n",
    "freq_z = float(1/(2*sym.pi*sym.sqrt(Mass*Cp_Assumed_num[6-1,3-1])))\n",
    "Kp_Assumed_numpy = np.array(Kp_Assumed_num).astype(np.float64)\n",
    "#eig_val = np.array(list(Kp_Assumed_num.eigenvals().keys()))\n",
    "eig_val, eig_vec = np.linalg.eig(Kp_Assumed_numpy)\n",
    "#display(Kp_Assumed_numpy)\n",
    "#display(eig_vec)\n",
    "#Kp_Assumed_num.eigenvects()[i][2][0] for i in range(3))\n",
    "#display(type(eig_val))\n",
    "#display(np.array(list(eig_val.keys())))\n",
    "#display(1/(2*np.pi)*np.sqrt(abs(eig_val)))\n",
    "\n",
    "Displacement = Kp_Assumed_num.solve(Load)\n",
    "#Display Values\n",
    "print(f\"Mass = {Mass*1000:.2f} g\")\n",
    "print(f\"X Size = {x_size*1000:.2f} mm\\nY Size = {y_size*1000:.2f} mm\\nZ Size = {z_size*1000:.2f} mm\")\n",
    "#print(f\"Natural Frequency in X Axis = {freq_x:.2f} Hz\\nNatural Frequency in Z Axis = {freq_z:.2f} Hz\")\n",
    "print(f\"X Displacement = {Displacement[3]*1000:.4f} mm\\nY Displacement = {Displacement[4]*1000:.4f} mm\\nZ Displacement = {Displacement[5]*1000:.4f} mm\\nX Rotation = {math.degrees(Displacement[0]):.4f} deg\\nY Rotation = {math.degrees(Displacement[1]):.4f} deg\\nZ Rotation = {math.degrees(Displacement[2]):.4f} deg\")"
   ],
   "id": "e080de17da8eac2a",
   "outputs": [
    {
     "name": "stdout",
     "output_type": "stream",
     "text": [
      "Mass = 21.57 g\n",
      "X Size = 60.00 mm\n",
      "Y Size = 41.85 mm\n",
      "Z Size = 5.00 mm\n",
      "X Displacement = 0.0000 mm\n",
      "Y Displacement = -0.1857 mm\n",
      "Z Displacement = 0.0000 mm\n",
      "X Rotation = 0.0000 deg\n",
      "Y Rotation = 0.0000 deg\n",
      "Z Rotation = 0.0000 deg\n"
     ]
    }
   ],
   "execution_count": 10
  },
  {
   "metadata": {
    "ExecuteTime": {
     "end_time": "2024-10-31T09:25:50.197526Z",
     "start_time": "2024-10-31T09:25:50.195480Z"
    }
   },
   "cell_type": "code",
   "source": "",
   "id": "d012729abbeead58",
   "outputs": [],
   "execution_count": null
  },
  {
   "metadata": {
    "ExecuteTime": {
     "end_time": "2024-10-31T09:25:50.224868Z",
     "start_time": "2024-10-31T09:25:50.223716Z"
    }
   },
   "cell_type": "code",
   "source": "",
   "id": "6f6b641639ae77db",
   "outputs": [],
   "execution_count": null
  },
  {
   "metadata": {},
   "cell_type": "markdown",
   "source": "",
   "id": "a7468487a6f8a889"
  },
  {
   "metadata": {
    "ExecuteTime": {
     "end_time": "2024-10-31T09:25:50.253670Z",
     "start_time": "2024-10-31T09:25:50.252252Z"
    }
   },
   "cell_type": "code",
   "source": "",
   "id": "9fd0e0154fccf13a",
   "outputs": [],
   "execution_count": null
  }
 ],
 "metadata": {
  "kernelspec": {
   "display_name": "Python 3 (ipykernel)",
   "language": "python",
   "name": "python3"
  },
  "language_info": {
   "codemirror_mode": {
    "name": "ipython",
    "version": 3
   },
   "file_extension": ".py",
   "mimetype": "text/x-python",
   "name": "python",
   "nbconvert_exporter": "python",
   "pygments_lexer": "ipython3",
   "version": "3.12.4"
  }
 },
 "nbformat": 4,
 "nbformat_minor": 5
}
