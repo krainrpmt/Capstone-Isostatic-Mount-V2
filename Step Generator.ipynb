{
 "cells": [
  {
   "cell_type": "code",
   "id": "initial_id",
   "metadata": {
    "collapsed": true,
    "ExecuteTime": {
     "end_time": "2024-10-11T04:50:01.793517Z",
     "start_time": "2024-10-11T04:50:01.046438Z"
    }
   },
   "source": [
    "import numpy as np\n",
    "import sympy\n",
    "import matplotlib.pyplot as plt\n",
    "import scipy as sp"
   ],
   "outputs": [],
   "execution_count": 1
  },
  {
   "metadata": {
    "ExecuteTime": {
     "end_time": "2024-10-11T05:52:38.864760Z",
     "start_time": "2024-10-11T05:52:38.847161Z"
    }
   },
   "cell_type": "code",
   "source": [
    "w = np.linspace(20,30,3)\n",
    "l = np.linspace(10,20,3)\n",
    "t = np.linspace(1,5,3)\n",
    "d = np.linspace(20,40,3)\n",
    "psi = np.linspace(60,90,3)\n",
    "r = 0.7*t\n",
    "e = np.linspace(1,3,1)\n",
    "l_junc = np.linspace(0,l-2*r,3)\n",
    "print(w, l, t ,d ,psi, r, e, l_junc)"
   ],
   "id": "3ac90986b3347250",
   "outputs": [
    {
     "name": "stdout",
     "output_type": "stream",
     "text": [
      "[20. 25. 30.] [10. 15. 20.] [1. 3. 5.] [20. 30. 40.] [60. 75. 90.] [0.7 2.1 3.5] [1.] [[ 0.   0.   0. ]\n",
      " [ 4.3  5.4  6.5]\n",
      " [ 8.6 10.8 13. ]]\n"
     ]
    }
   ],
   "execution_count": 8
  }
 ],
 "metadata": {
  "kernelspec": {
   "display_name": "Python 3",
   "language": "python",
   "name": "python3"
  },
  "language_info": {
   "codemirror_mode": {
    "name": "ipython",
    "version": 2
   },
   "file_extension": ".py",
   "mimetype": "text/x-python",
   "name": "python",
   "nbconvert_exporter": "python",
   "pygments_lexer": "ipython2",
   "version": "2.7.6"
  }
 },
 "nbformat": 4,
 "nbformat_minor": 5
}
