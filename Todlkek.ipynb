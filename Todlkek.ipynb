{
 "cells": [
  {
   "cell_type": "code",
   "id": "initial_id",
   "metadata": {
    "collapsed": true,
    "ExecuteTime": {
     "end_time": "2024-11-21T10:44:04.225309Z",
     "start_time": "2024-11-21T10:44:04.146987Z"
    }
   },
   "source": [
    "import numpy as np\n",
    "import sympy as sym\n",
    "import math\n",
    "import matplotlib.pyplot as plt"
   ],
   "outputs": [],
   "execution_count": 50
  },
  {
   "metadata": {
    "ExecuteTime": {
     "end_time": "2024-11-21T10:44:04.245228Z",
     "start_time": "2024-11-21T10:44:04.238325Z"
    }
   },
   "cell_type": "code",
   "source": "",
   "id": "3f669fd06ef632b",
   "outputs": [],
   "execution_count": null
  },
  {
   "metadata": {
    "ExecuteTime": {
     "end_time": "2024-11-21T13:39:21.583739Z",
     "start_time": "2024-11-21T13:39:19.979056Z"
    }
   },
   "cell_type": "code",
   "source": [
    "def func(e,h,psi_order,lmax_order,d_order,wt,Display):\n",
    "    w, psi, lmax, d = sym.symbols('w psi lmax d')\n",
    "    \n",
    "    #eqn = -psi + sym.atan((-50+w/2*sym.cos(psi)+0.5)/(-44-w/2*sym.sin(psi)))\n",
    "    eqn = -psi + sym.atan((49.5 - w)/(44-w*sym.sin(psi)))\n",
    "    psi_inst = []\n",
    "    w0 = np.linspace(0,30,200)\n",
    "    for i in w0:\n",
    "        psi_inst.append(sym.nsolve(eqn.subs(w,i),psi,0.785))\n",
    "    psi_inst = np.array(psi_inst)\n",
    "    psi_inst = np.asarray(psi_inst, dtype=float)\n",
    "    psi_inst = psi_inst*180/np.pi\n",
    "    poly_coeff = np.polyfit(w0,psi_inst,psi_order)\n",
    "    test_poly = np.polyval(poly_coeff, w0)\n",
    "    #print(test_poly)\n",
    "    w0.tofile('w0.csv', sep = ',')\n",
    "    psi_inst.tofile('psi_inst.csv', sep = ',')\n",
    "    psi_2_exact = sym.nsolve(eqn.subs({w:wt}), psi, 0.725)*180/np.pi\n",
    "    if Display:\n",
    "        display(eqn)\n",
    "        print(poly_coeff)\n",
    "        print([np.format_float_positional(i, precision=5, unique=False, fractional=False, trim='k') for i in poly_coeff])\n",
    "        plt.plot(w0, psi_inst, label='numerical')\n",
    "        plt.plot(w0, test_poly, label='fitted')\n",
    "        plt.xlabel('w [mm]')\n",
    "        plt.ylabel('psi/2 [deg]')\n",
    "        plt.title('Psi/2 angle to maximize flexure length at each width')\n",
    "        plt.grid(True)\n",
    "        plt.legend()\n",
    "        plt.show()\n",
    "        print(f\"psi/2 exact = {psi_2_exact:.2f}\")\n",
    "        print(f\"psi/2 approx. = {np.polyval(poly_coeff, wt):.2f}\")\n",
    "        \n",
    "    #print(w0)\n",
    "    #print(psi_inst)\n",
    "    \n",
    "    #height\n",
    "    height_inst = []\n",
    "    height_eqn = -h + 21 + w*sym.sin(psi)+(3*lmax + 2*e)*sym.cos(psi)\n",
    "    for i in w0:\n",
    "        psi_inter = np.polyval(poly_coeff, i)*np.pi/180\n",
    "        height_inst.append(sym.nsolve(height_eqn.subs({w:i, psi: psi_inter}),lmax,20))\n",
    "    height_inst = np.array(height_inst)\n",
    "    height_inst = np.asarray(height_inst, dtype=float)\n",
    "    poly_coeff_h = np.polyfit(w0,height_inst,lmax_order)\n",
    "    test_poly_h = np.polyval(poly_coeff_h, w0)\n",
    "    height_inst.tofile('height_inst.csv', sep = ',')\n",
    "    \n",
    "    #print(w0)\n",
    "    #print(height_inst)\n",
    "    l_max_exact = sym.nsolve(height_eqn.subs({w: wt, psi: np.polyval(poly_coeff, wt) * np.pi / 180}), lmax, 20)\n",
    "    if Display:\n",
    "        display(height_eqn)\n",
    "        print(poly_coeff_h)\n",
    "        print([np.format_float_positional(i, precision=5, unique=False, fractional=False, trim='k') for i in poly_coeff_h])\n",
    "        plt.plot(w0, height_inst, label = 'numerical')\n",
    "        plt.plot(w0, test_poly_h, label='fitted')\n",
    "        plt.xlabel('w [mm]')\n",
    "        plt.ylabel('lmax [mm]')\n",
    "        plt.title('Maximum flexure length at each width')\n",
    "        plt.grid(True)\n",
    "        plt.legend()\n",
    "        plt.show()\n",
    "        print(f\"lmax exact = {l_max_exact:.2f}\")\n",
    "        print(f\"lmax approx. = {np.polyval(poly_coeff_h, wt):.2f}\")\n",
    "    \n",
    "    #d\n",
    "    d_inst = []\n",
    "    d_eqn = w/2*sym.cos(psi)+0.5\n",
    "    for i in w0:\n",
    "        psi_inter = np.polyval(poly_coeff, i)*np.pi/180\n",
    "        d_inst.append(d_eqn.subs({w:i, psi: psi_inter}))\n",
    "    d_inst = np.array(d_inst)\n",
    "    d_inst = np.asarray(d_inst, dtype=float)\n",
    "    poly_coeff_d = np.polyfit(w0,d_inst,d_order)\n",
    "    test_poly_d = np.polyval(poly_coeff_d, w0)\n",
    "    \n",
    "    d_inst.tofile('d_inst.csv', sep = ',')\n",
    "    \n",
    "    #print(w0)\n",
    "    #print(d_inst)\n",
    "    d_2_exact = d_eqn.subs({w:wt, psi: np.polyval(poly_coeff, wt)*np.pi/180})\n",
    "    \n",
    "    if Display:\n",
    "        display(d_eqn)\n",
    "        print(poly_coeff_d)\n",
    "        print([np.format_float_positional(i, precision=5, unique=False, fractional=False, trim='k') for i in poly_coeff_d])\n",
    "        plt.plot(w0, d_inst, label = 'numerical')\n",
    "        plt.plot(w0, test_poly_d, label='fitted')\n",
    "        plt.xlabel('w [mm]')\n",
    "        plt.ylabel('d/2 [mm]')\n",
    "        plt.title('d/2 at each width')\n",
    "        plt.grid(True)\n",
    "        plt.legend()\n",
    "        plt.show()\n",
    "        print(f\"d/2 exact.= {d_2_exact:.2f}\")\n",
    "        print(f\"d/2 arrpox. = {np.polyval(poly_coeff_d, wt):.2f}\")\n",
    "    \n",
    "    return [round(wt,2), round(psi_2_exact,2), round(l_max_exact,2), round(d_2_exact,2)]\n",
    "\n",
    "#wt_list = np.linspace(5,10,2).tolist()\n",
    "wt_list = [7.7]\n",
    "parameters_list = []\n",
    "header = 'w,psi/2,l_max,d/2'\n",
    "\n",
    "for i in wt_list:\n",
    "    parameters_list.append(func(e = 0.1, h = 65, psi_order = 5, lmax_order = 5, d_order = 5, wt = i, Display = False))\n",
    "\n",
    "parameters_list = np.array(parameters_list)\n",
    "np.savetxt('optimization_parameters.csv', parameters_list, delimiter=',',header = header, comments=\"\", fmt='%.2f')\n",
    "print(parameters_list)\n"
   ],
   "id": "212b5d946b447e18",
   "outputs": [
    {
     "name": "stdout",
     "output_type": "stream",
     "text": [
      "[[7.7 47.48 18.84 3.10]]\n"
     ]
    }
   ],
   "execution_count": 56
  },
  {
   "metadata": {
    "ExecuteTime": {
     "end_time": "2024-11-21T10:44:07.315635Z",
     "start_time": "2024-11-21T10:44:07.313908Z"
    }
   },
   "cell_type": "code",
   "source": "",
   "id": "fd7593defc7761bb",
   "outputs": [],
   "execution_count": null
  },
  {
   "metadata": {
    "ExecuteTime": {
     "end_time": "2024-11-21T10:44:07.326226Z",
     "start_time": "2024-11-21T10:44:07.324575Z"
    }
   },
   "cell_type": "code",
   "source": "",
   "id": "a5fb01531b8cb57d",
   "outputs": [],
   "execution_count": null
  },
  {
   "metadata": {
    "ExecuteTime": {
     "end_time": "2024-11-21T10:44:07.343274Z",
     "start_time": "2024-11-21T10:44:07.341488Z"
    }
   },
   "cell_type": "code",
   "source": "",
   "id": "fc6f574bd9a37812",
   "outputs": [],
   "execution_count": null
  }
 ],
 "metadata": {
  "kernelspec": {
   "display_name": "Python 3",
   "language": "python",
   "name": "python3"
  },
  "language_info": {
   "codemirror_mode": {
    "name": "ipython",
    "version": 2
   },
   "file_extension": ".py",
   "mimetype": "text/x-python",
   "name": "python",
   "nbconvert_exporter": "python",
   "pygments_lexer": "ipython2",
   "version": "2.7.6"
  }
 },
 "nbformat": 4,
 "nbformat_minor": 5
}
